{
 "cells": [
  {
   "cell_type": "markdown",
   "id": "8ef11196-30a9-4509-aa5b-1fb4eef1782e",
   "metadata": {},
   "source": [
    "# [Epi/Biostats 101] Final Project: Heart Attack!"
   ]
  },
  {
   "cell_type": "markdown",
   "id": "d0ef0e97-905e-4a93-ab4a-8a4144b394f0",
   "metadata": {},
   "source": [
    "Authors: Andrew O'Connor, Carl Conste  \n",
    "UC Berkeley, Fall 2023  \n"
   ]
  },
  {
   "cell_type": "code",
   "execution_count": null,
   "id": "21d3e99f-0334-4a5f-85a7-df015a6c2379",
   "metadata": {},
   "outputs": [],
   "source": [
    "# uncomment the line below if you are missing any of the libraries\n",
    "# !pip install IPython ipywidgets ucimlrepo seaborn pandas numpy matplotlib"
   ]
  },
  {
   "cell_type": "code",
   "execution_count": 1,
   "id": "29afab46-0555-43f7-aee4-fe19179d80de",
   "metadata": {},
   "outputs": [],
   "source": [
    "import pandas as pd\n",
    "import numpy as np\n",
    "from utils import *\n",
    "\n",
    "import matplotlib.pyplot as plt\n",
    "import seaborn as sns\n",
    "%matplotlib inline\n",
    "\n",
    "#!pip install IPython ipywidgets ucimlrepo\n",
    "\n",
    "sns.set(style=\"dark\")\n",
    "plt.style.use(\"ggplot\")"
   ]
  },
  {
   "cell_type": "markdown",
   "id": "f103af05-4f1f-4c18-8b7f-f7c946e14f4c",
   "metadata": {},
   "source": [
    "<hr style=\"border: 5px solid #003262;\" />\n",
    "<hr style=\"border: 1px solid #fdb515;\" />"
   ]
  },
  {
   "cell_type": "markdown",
   "id": "7272f58b-0055-4dc6-8e38-665557ce97db",
   "metadata": {},
   "source": [
    "# Project Overview\n",
    "In this **partner** project, you will embark on a comprehensive exploration of certain aspects related to a common umbrella term that encompasses many different issues with the heart, cardiovascular disease (CVD). The project is thoughtfully divided into three distinct sections, each offering a unique perspective on this topic.\n",
    "\n",
    "### Section Descriptions\n",
    "**Section 1**: Epidemiology in Practice will introduce you to a practical application of epidemiological research, providing insights into different types of studies, research methodologies, causal inference techniques and the significance of epidemiology in public health.\n",
    "\n",
    "**Section 2**: EDA (Exploratory Data Analysis) of CVD (Cardiovascular Disorder) takes you into the realm of data analysis, where you will apply your epidemiological knowledge to real-world health datasets. You'll gain practical experience in understanding and interpreting health data.\n",
    "\n",
    "**Section 3**: Predicting Heart Attacks leverages the predictive modeling and machine learning to build a binary classifier, enabling you to predict heart attacks. You will bridge the gap between epidemiological insights and data-driven decision-making in healthcare.\n",
    "\n",
    "**Section 4 (Optional, Extra Credit)**: Life's Essential 8 gives you the opportunity to compare/contrast the lived realities of Americans in regards to suggested behaviors that promote \"good\" health. Public health officials may recommend and promote certain behaviors but socially and economically, are these feasible? This section lets you explore this.\n",
    "\n",
    "This project offers a cohesive journey, combining theory and practical applications, equipping you with valuable skills in epidemiology, data analysis, and predictive modeling. You will explore the fascinating world of heart disease and its implications for public health.\n",
    "\n",
    "### Grading\n",
    "- This project will be graded **80% on completion** and **20% on accuracy**\n",
    "- There are a total of 20 questions, each worth 5 points.\n",
    "- There is an optional Extra Credit section, with 2 questions worth 5 points each. Therefore, the maximum score you can recieve on the project is 110/100.\n",
    "- Preliminary questions are meant to get you started with approaching the questions to come. They are not graded and are specifically denoted as being worth 0 points"
   ]
  },
  {
   "cell_type": "markdown",
   "id": "58396d7c-88e6-4ad9-a508-11ccab82f375",
   "metadata": {},
   "source": [
    "<div class=\"alert alert-block alert-info\">\n",
    "Key things to note for free response \"Your Answer Here\" questions:\n",
    "<ul>\n",
    "<li>Answer with at most 5 sentences. Some explanations may take longer than others.</li>\n",
    "<li>The goal of this restriction is to not make you write a full essay or spend too much time on these questions.</li>\n",
    "</ul>\n",
    "</div>"
   ]
  },
  {
   "cell_type": "markdown",
   "id": "60908c46-c03c-498c-8a8c-fd0cc0258bb1",
   "metadata": {},
   "source": [
    "---"
   ]
  },
  {
   "cell_type": "markdown",
   "id": "2f981382-9569-458b-ae57-217c0e17917d",
   "metadata": {},
   "source": [
    "### Section 1: Epidemiology in Practice\n",
    "\n",
    "In this section, you will be reading the study [\"Cardiovascular disease risk factors in relation to smoking behaviour and history: a population-based cohort study\"](https://openheart.bmj.com/content/openhrt/3/2/e000358.full.pdf) (Keto J, Ventola H, Jokelainen J, et al.) and extracting some information based on what we've talked about in class. This study provides a practical opportunity to apply epidemiological and causal inference knowledge to investigate the relationships between cardiovascular disease risk factors and smoking behavior.\n",
    "\n",
    "Throughout this section, our focus will be on the study's methodology, findings, and the causal relationship between smoking and CVD. By examining the impact of smoking behavior on cardiovascular disease risk, we aim to uncover valuable insights that can inform public health strategies and interventions. Our analysis marks the beginning of our exploration into heart-related issues through an epidemiological lens."
   ]
  },
  {
   "cell_type": "markdown",
   "id": "2135a31e-9748-49e4-bb15-d1862fac3f2a",
   "metadata": {},
   "source": [
    "**Preliminary** (0 points): Watch the following 2 videos introducing heart/cardiovascular disease (CVD). Reflect on the videos and ask yourself the following questions after watching the videos for your understanding (no need to write anything down for this).  \n",
    "\n",
    "1. What are some of the causes/risk factors for CVD?\n",
    "2. What is cholesterol and how does it affect the heart?\n",
    "3. Why does CVD have such a large impact on Americans?"
   ]
  },
  {
   "cell_type": "code",
   "execution_count": 2,
   "id": "646593fc-7327-49a6-8aaf-74faff086aea",
   "metadata": {},
   "outputs": [
    {
     "data": {
      "text/html": [
       "\n",
       "        <details>\n",
       "        <summary>Click to show/hide videos</summary>\n",
       "        <div style=\"text-align: center;\">\n",
       "        <div style=\"display: inline-block; padding: 100px;\">\n",
       "                <iframe width=\"150%\" height=\"315\" src=\"https://www.youtube.com/embed/g131j2lb3xw\" frameborder=\"0\" allowfullscreen></iframe>\n",
       "            </div>\n",
       "            <div style=\"display: inline-block; padding: 100px;\">\n",
       "                <iframe width=\"150%\" height=\"315\" src=\"https://www.youtube.com/embed/6LbKWBjOa1A\" frameborder=\"0\" allowfullscreen></iframe>\n",
       "            </div>\n",
       "        </div>\n",
       "        </details>\n",
       "        "
      ],
      "text/plain": [
       "<IPython.core.display.HTML object>"
      ]
     },
     "execution_count": 2,
     "metadata": {},
     "output_type": "execute_result"
    }
   ],
   "source": [
    "# run this cell to view the videos\n",
    "DisplayCVDVideos()"
   ]
  },
  {
   "cell_type": "markdown",
   "id": "ed4c2196-b5fa-4fa0-a03b-6ece1341bf22",
   "metadata": {},
   "source": [
    "<br>"
   ]
  },
  {
   "cell_type": "markdown",
   "id": "3e299a53-d314-43f1-bd08-55e2aadf3217",
   "metadata": {},
   "source": [
    "**Question 1**: [Read](https://open.oregonstate.education/epidemiology/back-matter/appendix-1/) the following research paper [linked here](https://openheart.bmj.com/content/3/2/e000358).  What is the main purpose of this study and how does it contribute to what is already known of the topic?  \n",
    "Note: Suggested order of reading: Abstract, Introduction, Conclusion, Discussion, (skim) Methods, (skim) Results/Data Analysis  \n",
    "*Hint*: [Refer to the Abstract, Key Questions (page 1), and Introduction]"
   ]
  },
  {
   "cell_type": "markdown",
   "id": "64d6f12d-ba5e-4201-9309-b528269683c5",
   "metadata": {},
   "source": [
    "___Type your answer here, replacing this text.___"
   ]
  },
  {
   "cell_type": "markdown",
   "id": "2b7c1d1d-70e8-4b1a-9004-8c25934abafd",
   "metadata": {},
   "source": [
    "<br>"
   ]
  },
  {
   "cell_type": "markdown",
   "id": "f6ec7bc0-01f9-4845-81ee-f0d6a9146726",
   "metadata": {},
   "source": [
    "**Question 2**: What type of epidemiological study was done? Briefly describe the individuals that were selected for this study. Did any drop out of the study? (i.e. what proportion of the original population stayed to the end?)"
   ]
  },
  {
   "cell_type": "markdown",
   "id": "ea277b8b-8995-4705-91ef-f388f2c2724f",
   "metadata": {},
   "source": [
    "___Type your answer here, replacing this text.___"
   ]
  },
  {
   "cell_type": "markdown",
   "id": "2cd2770e-b3e2-4c65-b57a-ed0259fddd47",
   "metadata": {},
   "source": [
    "<br>"
   ]
  },
  {
   "cell_type": "markdown",
   "id": "96cc2f65-ab9d-442b-b180-5a8277579867",
   "metadata": {},
   "source": [
    "**Question 3** According to the study, how was smoking status assessed?"
   ]
  },
  {
   "cell_type": "markdown",
   "id": "d999be89-68a7-485a-afe1-953305dfc270",
   "metadata": {},
   "source": [
    "___Type your answer here, replacing this text.___"
   ]
  },
  {
   "cell_type": "markdown",
   "id": "85d83ef4-ec1d-4f1e-bc23-16374bb41ce7",
   "metadata": {},
   "source": [
    "<br>"
   ]
  },
  {
   "cell_type": "markdown",
   "id": "3a1b6105-b813-49c4-a53a-b6393c4f6ad1",
   "metadata": {},
   "source": [
    "**Question 4** Displayed below is Table 1 (page 3). List all variables that come from continuous distributions and mention the process used to standardize the values of the continuous variables."
   ]
  },
  {
   "cell_type": "markdown",
   "id": "eee20f8f-7f1c-4b18-9e43-d78ae58a732a",
   "metadata": {},
   "source": [
    "<div style=\"text-align: center;\">\n",
    "    <img src=\"table1.png\" width=\"700\" alt=\"Table 1\">\n",
    "</div>"
   ]
  },
  {
   "cell_type": "markdown",
   "id": "e9eec70e-6d56-4307-a970-e76f09498ec5",
   "metadata": {},
   "source": [
    "___Type your answer here, replacing this text.___"
   ]
  },
  {
   "cell_type": "markdown",
   "id": "a354d8e7-1c77-4e85-ba77-8cd534246d0e",
   "metadata": {},
   "source": [
    "<br>"
   ]
  },
  {
   "cell_type": "markdown",
   "id": "8a72813d-cc41-4665-900c-10ab3c4854f5",
   "metadata": {},
   "source": [
    "**Question 5** Suppose we have access to the full database of individuals in the study and assume `Age`  follows a $\\textrm{Normal}(46.6, 0.36)$ distribution. What is the probability that if you randomly selected a person from the study that they would be less than 46 years old?  \n",
    "<br> \n",
    "\n",
    "*Hint*: Consider the probability density function (pdf) and cumulative density function (cdf) of `Age`. Import and use any scipy library functions from [the documentation](https://docs.scipy.org/doc/scipy/reference/generated/scipy.stats.norm.html) that may help you to solve this question. "
   ]
  },
  {
   "cell_type": "code",
   "execution_count": null,
   "id": "1d51476f-48c2-4693-af4c-97910a933ffc",
   "metadata": {},
   "outputs": [],
   "source": [
    "# Your code here"
   ]
  },
  {
   "cell_type": "markdown",
   "id": "f3caca0b-1e91-4248-aae9-11d88d164f79",
   "metadata": {},
   "source": [
    "<br>"
   ]
  },
  {
   "cell_type": "markdown",
   "id": "e4e3e67c-bfa4-45af-aa60-405800175470",
   "metadata": {},
   "source": [
    "**Question 6** Do you believe this study has the ability to determine a causal relationship between smoking and CVD? Why or why not?"
   ]
  },
  {
   "cell_type": "markdown",
   "id": "d2add804-fef7-4b50-9460-eecb548912bc",
   "metadata": {},
   "source": [
    "___Type your answer here, replacing this text.___"
   ]
  },
  {
   "cell_type": "markdown",
   "id": "3d145191-3355-47d1-b606-22de4d30560b",
   "metadata": {},
   "source": [
    "<br>"
   ]
  },
  {
   "cell_type": "markdown",
   "id": "bc05f8ab-dcc3-48a7-bb01-9b5216ecdb3a",
   "metadata": {},
   "source": [
    "**Question 7** What kind of study is best to determine causality? Compare and contrast that type of study to the study mentioned in the paper."
   ]
  },
  {
   "cell_type": "markdown",
   "id": "b852c6a1-81b9-491d-b385-be37f94abc63",
   "metadata": {},
   "source": [
    "___Type your answer here, replacing this text.___"
   ]
  },
  {
   "cell_type": "markdown",
   "id": "06975da5-43e2-417f-ad43-54e5fcd783bb",
   "metadata": {},
   "source": [
    "<br>"
   ]
  },
  {
   "cell_type": "markdown",
   "id": "840e0fa2-e5d4-487f-a151-adc30594cf36",
   "metadata": {},
   "source": [
    "**Question 8** Suppose we hypothesize that there is a causal relationship between Smoking and CVD. What are two main factors that may affect the relationship between Smoking and CVD? Brainstorm at least 2 variables for each factor."
   ]
  },
  {
   "cell_type": "markdown",
   "id": "e3898bb8-81b9-480b-98c1-b0b2b287907f",
   "metadata": {},
   "source": [
    "___Type your answer here, replacing this text.___"
   ]
  },
  {
   "cell_type": "markdown",
   "id": "695eaece-504b-4de4-94c9-72d329cc0d50",
   "metadata": {},
   "source": [
    "---"
   ]
  },
  {
   "cell_type": "markdown",
   "id": "c880b380-f5a5-451b-8a16-349d75f5ba9c",
   "metadata": {},
   "source": [
    "### Section 2: EDA of CVD"
   ]
  },
  {
   "cell_type": "markdown",
   "id": "8644014f-e928-4bf1-839b-9b507cdf5303",
   "metadata": {},
   "source": [
    "In Section 2, we transition from the realm of epidemiological research to the practical world of data analysis. Our focus here is on conducting Exploratory Data Analysis (EDA) with the aim of gaining a deeper understanding of heart health. To do so, we'll utilize the UCI Machine Learning Repository's [Heart Disease dataset](https://archive.ics.uci.edu/dataset/45/heart+disease), allowing us  to explore the vast landscape of factors and variables associated with heart health. EDA is a crucial step in any data analysis journey, as it provides us with the tools and techniques to uncover patterns, relationships, and potential insights within our data. By the end of this section, you will have honed your skills in data visualization, statistical analysis, and the ability to ask and answer meaningful questions based on real-world health data\n",
    "\n",
    "\n",
    "Run the cell below to fetch the heart disease data directly from the UCI Machine Learning Repository."
   ]
  },
  {
   "cell_type": "code",
   "execution_count": null,
   "id": "0ab290b0-7749-4b48-919a-bae8c70bf9a7",
   "metadata": {},
   "outputs": [],
   "source": [
    "# UCI ML repo - https://archive.ics.uci.edu/dataset/45/heart+disease\n",
    "heart_disease = Fetch_CVD_Data()"
   ]
  },
  {
   "cell_type": "markdown",
   "id": "36961ed1-3771-4bfa-b4a8-cabe760d112a",
   "metadata": {},
   "source": [
    "**Preliminary** (0 points): In functions that are already defined for you (to abstract away the unnecessary details of loading/processing data), its not always obvious what a function should return. What function would you use to check the return type of the above code?"
   ]
  },
  {
   "cell_type": "code",
   "execution_count": null,
   "id": "ec8e8ca1-daf3-48fb-b6ed-7d0da84aad40",
   "metadata": {},
   "outputs": [],
   "source": [
    "# Your Code Here"
   ]
  },
  {
   "cell_type": "markdown",
   "id": "7643d358-2638-41a4-bc9f-5dda7ea96d47",
   "metadata": {},
   "source": [
    "<br>"
   ]
  },
  {
   "cell_type": "markdown",
   "id": "ed84cfe3-6269-48aa-af1f-b93cee96ff1a",
   "metadata": {},
   "source": [
    "**Question 9**: Now, let's explore our dataset. First, produce a pairplot of the dataset, which produces a scatterplot comparing each column with every other column. This code may take a minute to run.\n",
    "\n",
    "The diagonals represent the histograms of each variables and the other plots are scatter plots showing the correlation between each variable. What are some general trends do you notice in some of these correlation plots? Are there any variables that you think are relatively correlated with each other, and if so, which ones?"
   ]
  },
  {
   "cell_type": "code",
   "execution_count": null,
   "id": "b09b3036-3684-417f-b76c-029ba5b9af0d",
   "metadata": {},
   "outputs": [],
   "source": [
    "fig = # YOUR CODE HERE\n",
    "\n",
    "# Cleaning Up the Output\n",
    "for i, j in zip(*np.triu_indices_from(fig.axes, 1)):\n",
    "    fig.axes[i, j].set_visible(False)\n",
    "plt.show()"
   ]
  },
  {
   "cell_type": "markdown",
   "id": "81511301-510a-474f-8dfa-de7d8e8e0971",
   "metadata": {},
   "source": [
    "___Type your answer here, replacing this text.___"
   ]
  },
  {
   "cell_type": "markdown",
   "id": "fb48a57f-d472-493f-af42-02d7caf70f86",
   "metadata": {},
   "source": [
    "<br>"
   ]
  },
  {
   "cell_type": "markdown",
   "id": "98a4631f-182e-4d91-9dd3-e07ccded5c2b",
   "metadata": {},
   "source": [
    "**Question 10**: Let's focus on the correlation between ```age``` and ```num```. Plot a histogram that shows the different distributions in age for each value of num. Use the argument ```palette=mako``` to better see the overlapping bars.\n",
    "\n",
    "What do you notice about these histograms?\n",
    "\n",
    "*Hint:* Look into ```sns.histplot```'s ```hue``` argument."
   ]
  },
  {
   "cell_type": "code",
   "execution_count": null,
   "id": "ecc1c0c1-c306-4fcb-965e-0141cd7fd149",
   "metadata": {},
   "outputs": [],
   "source": [
    "# YOUR CODE HERE"
   ]
  },
  {
   "cell_type": "markdown",
   "id": "940dd828-8750-4316-8a5e-8a2b4ae579b4",
   "metadata": {},
   "source": [
    "___Type your answer here, replacing this text.___"
   ]
  },
  {
   "cell_type": "markdown",
   "id": "65ae2c23-222e-4fc8-bb3e-63d7ed10e574",
   "metadata": {},
   "source": [
    "Because we're separating individuals with heart diease into their specific levels of heart disease, our histogram becomes a little hard to read and individuals who don't have heart diease overpower the effectiveness of our graph. To combat this, we'll add a new column called ```num_normalized```, where any individual who has a ```num``` value greater than 1 will get the value of 1 and everyone else 0."
   ]
  },
  {
   "cell_type": "code",
   "execution_count": null,
   "id": "b9f8dbe2-b183-41e2-9628-ff20557f80a3",
   "metadata": {},
   "outputs": [],
   "source": [
    "# DO NOT EDIT THIS CELL\n",
    "heart_disease['num_normalized'] = (heart_disease['num'] >= 1) * 1"
   ]
  },
  {
   "cell_type": "markdown",
   "id": "de2522ea-bd69-493a-ac2c-189a1e5c6d28",
   "metadata": {},
   "source": [
    "Replot a histogram similar to the one above, but instead use ```num_normalized``` instead of num. Its readability should now be much more clearer. What do you notice about this new histogram? Do any of these new findings surprise you? Why or why not?"
   ]
  },
  {
   "cell_type": "code",
   "execution_count": null,
   "id": "fd211926-d2ea-44cc-8dd9-283efe224d53",
   "metadata": {},
   "outputs": [],
   "source": [
    "# YOUR CODE HERE"
   ]
  },
  {
   "cell_type": "markdown",
   "id": "24991b35-4fe8-40f2-a5d8-b6c44f6ec491",
   "metadata": {},
   "source": [
    "___Type your answer here, replacing this text.___"
   ]
  },
  {
   "cell_type": "markdown",
   "id": "d7b3d522-3aad-4aec-93ca-1e1ccebe0bd3",
   "metadata": {},
   "source": [
    "<br>"
   ]
  },
  {
   "cell_type": "markdown",
   "id": "3936d69d-5641-475b-a529-b6010e396496",
   "metadata": {},
   "source": [
    "**Question 11**: Let's look at some other variables that have differences in distributions between individuals with and without heart disease. Produce a histogram displaying the distribution of ```thalach``` between the two groups of ```num_normalized```. Explain why you think there may be a difference between the distribution ```thalach``` between thosee that have heart disease and those that don't."
   ]
  },
  {
   "cell_type": "code",
   "execution_count": null,
   "id": "9e4ddc70-491d-46ba-b36c-3ba423f1bdd1",
   "metadata": {},
   "outputs": [],
   "source": [
    "# YOUR CODE HERE"
   ]
  },
  {
   "cell_type": "markdown",
   "id": "6013dcdc-6fba-46db-87ab-b3507e8eac1f",
   "metadata": {},
   "source": [
    "___Type your answer here, replacing this text.___"
   ]
  },
  {
   "cell_type": "markdown",
   "id": "15cc67ee-7b60-4681-bd34-fd4eb369e0cf",
   "metadata": {},
   "source": [
    "<br>"
   ]
  },
  {
   "cell_type": "markdown",
   "id": "f6cf0bff-4645-45e0-8a17-4c48958faaa5",
   "metadata": {},
   "source": [
    "**Question 12**: Lastly, let's explore the difference in sex groups and heart diease correlation. Plot a histogram displaying the difference between groups. Report your findings. Did you find this difference shocking or was it more or less expected, and why?\n",
    "\n",
    "Note: ```sex == 1``` is male, ```sex == 0``` is female"
   ]
  },
  {
   "cell_type": "code",
   "execution_count": null,
   "id": "5c8513f2-4898-4c4e-807c-75e240a48c37",
   "metadata": {},
   "outputs": [],
   "source": [
    "# YOUR CODE HERE"
   ]
  },
  {
   "cell_type": "markdown",
   "id": "26ff4de3-e02f-403a-a97b-f459379ba3e7",
   "metadata": {},
   "source": [
    "___Type your answer here, replacing this text.___"
   ]
  },
  {
   "cell_type": "markdown",
   "id": "6d84289a-bc2a-417d-a67c-706c7e26fa4b",
   "metadata": {},
   "source": [
    "<br>"
   ]
  },
  {
   "cell_type": "markdown",
   "id": "7deb2bc8-68bc-4af6-af29-2f67dfc2121d",
   "metadata": {},
   "source": [
    "**Question 13**: Find one more variable in the dataset that we have not explored yet and has a distinct divide between groups of ```num_normalized```, meaning you can easily tell from the histogram one group is more likely to belong in a certain group of ```num_normalized```. What variable did you pick and why? How did you draw the conclusion that this was a good variable to choose for our model??\n",
    "\n",
    "**NOTE**: Do ***NOT*** choose either ```ca``` or ```thal``` as there are missing values for those columns and will not be helpful for us in later sections."
   ]
  },
  {
   "cell_type": "code",
   "execution_count": null,
   "id": "dc1c5aad-8528-4eaf-b608-0c0a0d4bc99f",
   "metadata": {},
   "outputs": [],
   "source": [
    "# YOUR CODE HERE"
   ]
  },
  {
   "cell_type": "markdown",
   "id": "5d8023ae-07c0-4dfa-962e-f0c49e0af92f",
   "metadata": {},
   "source": [
    "___Type your answer here, replacing this text.___"
   ]
  },
  {
   "cell_type": "markdown",
   "id": "5c53a78b-cc8b-4532-8ecc-855b1fea5a25",
   "metadata": {},
   "source": [
    "<br>"
   ]
  },
  {
   "cell_type": "markdown",
   "id": "69f8017e-1aa1-4d5a-a79d-4e6ab6cc50c1",
   "metadata": {},
   "source": [
    "**Question 14**: Now that we've explored a little bit of the dataset, why did we choose/have you focus on variables that had distinct divides between groups? How can this be beneficial for us?"
   ]
  },
  {
   "cell_type": "markdown",
   "id": "ac306004-1d11-4732-b6ee-83daf1410010",
   "metadata": {},
   "source": [
    "___Type your answer here, replacing this text.___"
   ]
  },
  {
   "cell_type": "markdown",
   "id": "545e53c9-5256-48f2-84b2-42f5a02ee66f",
   "metadata": {},
   "source": [
    "<br>"
   ]
  },
  {
   "cell_type": "markdown",
   "id": "821f58d7-95d6-4846-aa1c-355ac1aaab3f",
   "metadata": {},
   "source": [
    "---"
   ]
  },
  {
   "cell_type": "markdown",
   "id": "71c303c5-ea9a-4cdc-bcea-6ccbc75efb44",
   "metadata": {},
   "source": [
    "### Section 3: Predicting Heart Attacks"
   ]
  },
  {
   "cell_type": "markdown",
   "id": "764405cd-7b0d-4ba3-b323-571ef8977b9c",
   "metadata": {},
   "source": [
    "In this section, we shift our focus of analyzing heart-related issues to practical applications of prediction and machine learning. Using your cleaned data from the previous section, our goal is to build a classifier capable of predicting the occurrence of heart attacks. This section marks the culmination of our exploration, combining the insights gained from epidemiology and exploratory data analysis with predictive modeling techniques. By the end of this section, you'll have practical experience in building and evaluating predictive models for a critical health outcome."
   ]
  },
  {
   "cell_type": "markdown",
   "id": "f2027fa6-e876-4478-8a3a-eeefa36980d9",
   "metadata": {},
   "source": [
    "**Preliminary** (0 points): Remind yourself of the modeling process. What are the steps? What kind of model metrics are associated with binary classification?"
   ]
  },
  {
   "cell_type": "markdown",
   "id": "7f54e822-5a23-4919-be7b-d3b648066d51",
   "metadata": {},
   "source": [
    "___Type your answer here, replacing this text.___"
   ]
  },
  {
   "cell_type": "markdown",
   "id": "fe9e5d0d-f2ef-4515-80c6-9480090f40f7",
   "metadata": {},
   "source": [
    "<br>"
   ]
  },
  {
   "cell_type": "markdown",
   "id": "c659d84f-d1bb-4ba9-a552-ff16fee327a5",
   "metadata": {},
   "source": [
    "**Question 15**: First off, let's choose our model. Since we're trying to perform binary classification, which models would work here, and why? Which ones wouldn't?"
   ]
  },
  {
   "cell_type": "markdown",
   "id": "8d1fcf34-bdbd-44d5-8ac2-19ddf6c74d11",
   "metadata": {},
   "source": [
    "___Type your answer here, replacing this text.___"
   ]
  },
  {
   "cell_type": "markdown",
   "id": "6f41c11c-5f61-452c-b3df-af7ddf1ba2a1",
   "metadata": {},
   "source": [
    "<br>"
   ]
  },
  {
   "cell_type": "markdown",
   "id": "7092378e-39d3-4e2c-ae46-c625f0471e60",
   "metadata": {},
   "source": [
    "**Question 16**: Next, choose a model you're comfortable working with. We'd recommend using sklearn's ```LogisticRegression``` due to its intuitiveness and simplicity. Develop a model using the variables ```sex``` and ```age```. Predict ```num_normalized``` and record the accuracy of this model."
   ]
  },
  {
   "cell_type": "code",
   "execution_count": null,
   "id": "4bdc1aa1-2d2e-46fc-b933-5dc057889165",
   "metadata": {},
   "outputs": [],
   "source": [
    "# feel free to add any necessary imports\n",
    "from sklearn.linear_model import LogisticRegression\n",
    "from sklearn.neural_network import MLPClassifier\n",
    "from sklearn.tree import DecisionTreeClassifier\n",
    "\n",
    "from sklearn.metrics import accuracy_score\n",
    "\n",
    "# YOUR CODE HERE"
   ]
  },
  {
   "cell_type": "markdown",
   "id": "164d7562-aaef-43f1-955d-83994714ae32",
   "metadata": {},
   "source": [
    "<br>"
   ]
  },
  {
   "cell_type": "markdown",
   "id": "e07be901-480c-4261-b77d-991f42177054",
   "metadata": {},
   "source": [
    "**Question 17**: Train a new model, using the same type of model you used in the previous question. This time, use the variables ```age```, ```sex```, ```thalach```, and a variable of your choice (preferrably the one you performed EDA on). Record its accuracy score. Did this model perform better or worse that the model using only ```age``` and ```sex```. Why do you think this is?"
   ]
  },
  {
   "cell_type": "code",
   "execution_count": null,
   "id": "61f38740-e4ca-4396-88c7-bc1bfc68a6c5",
   "metadata": {},
   "outputs": [],
   "source": [
    "# YOUR CODE HERE"
   ]
  },
  {
   "cell_type": "markdown",
   "id": "56459dec-9b95-4f65-be8e-93d44d2308eb",
   "metadata": {},
   "source": [
    "___Type your answer here, replacing this text.___"
   ]
  },
  {
   "cell_type": "markdown",
   "id": "bb77d1c5-a651-490a-9e24-68edc47ff821",
   "metadata": {},
   "source": [
    "<br>"
   ]
  },
  {
   "cell_type": "markdown",
   "id": "3eb2adfd-9ca0-496d-8696-6903052c756e",
   "metadata": {},
   "source": [
    "**Question 18**: Now, try using all the variables in the dataset, except for ```ca``` or ```thal```, and record the accuracy score. How does it compare to the accuracy scores of the other models?"
   ]
  },
  {
   "cell_type": "code",
   "execution_count": null,
   "id": "4d81a105-1657-4dcc-a437-5df8c4698531",
   "metadata": {},
   "outputs": [],
   "source": [
    "# YOUR CODE HERE"
   ]
  },
  {
   "cell_type": "markdown",
   "id": "e461bf50-906a-4db6-9843-86e9062260e9",
   "metadata": {},
   "source": [
    "___Type your answer here, replacing this text.___"
   ]
  },
  {
   "cell_type": "markdown",
   "id": "b912c41e-67c5-4ab2-825c-751c02832aba",
   "metadata": {},
   "source": [
    "<br>"
   ]
  },
  {
   "cell_type": "markdown",
   "id": "af499c9c-aedc-4d93-976c-9d9aeed7e6fb",
   "metadata": {},
   "source": [
    "**Question 19**: Create a new model that's of a different type than your previous model. Train this model using the variables ```age```, ```sex```, ```thalch```, and the same variable of choice from the previous questions. Record its accuracy. Why did you choose this model? How does it compare to your other model using the same variables? Explain potential possibilities of the difference (or no difference) between the accuracy of the models."
   ]
  },
  {
   "cell_type": "code",
   "execution_count": null,
   "id": "ab3f30ee-95d4-4e87-8e82-fde83b4e944e",
   "metadata": {},
   "outputs": [],
   "source": [
    "# YOUR CODE HERE"
   ]
  },
  {
   "cell_type": "markdown",
   "id": "2c22feb9-b837-420c-a69d-6c4ac103cbea",
   "metadata": {},
   "source": [
    "___Type your answer here, replacing this text.___"
   ]
  },
  {
   "cell_type": "markdown",
   "id": "fdcd658f-1a26-4d6e-b3d0-cee9c8404add",
   "metadata": {},
   "source": [
    "<br>"
   ]
  },
  {
   "cell_type": "markdown",
   "id": "45f56599-103e-4a9c-9edd-2cf660acc18e",
   "metadata": {},
   "source": [
    "**Question 20**: Let's explore your initial model of choice using the four variables ```age```, ```sex```, ```thalach```, and a variable of your choice. Now, examine the labels our model predicts (whether a person has heart diease or not) and compare it with the true labels. Calculate the False Positive Rate and False Negative Rate of our model and report it. What do these values represent?\n",
    "\n",
    "In the context of our problem, which would be more harmful: misclassifying someone as having heart diease (False Positiv) or misclassifying someone as not having heart disease (False Negative)?, and why?"
   ]
  },
  {
   "cell_type": "code",
   "execution_count": null,
   "id": "eecd7e2c-2599-45c3-a9d0-3a226028fb84",
   "metadata": {},
   "outputs": [],
   "source": [
    "# YOUR CODE HERE"
   ]
  },
  {
   "cell_type": "markdown",
   "id": "32b8241c-dd9b-402e-80ca-92374daef173",
   "metadata": {},
   "source": [
    "___Type your answer here, replacing this text.___"
   ]
  },
  {
   "cell_type": "markdown",
   "id": "c09459f4-e015-4f02-b39a-b84f3971dfbb",
   "metadata": {},
   "source": [
    "<br>"
   ]
  },
  {
   "cell_type": "markdown",
   "id": "38d4f5af-da64-4de0-8a16-90ce42b89978",
   "metadata": {},
   "source": [
    "---"
   ]
  },
  {
   "cell_type": "markdown",
   "id": "dbca5250-5e18-4d75-b514-b5ad9a5008a4",
   "metadata": {},
   "source": [
    "### Section 4 (Extra Credit): Life's Essential 8"
   ]
  },
  {
   "cell_type": "markdown",
   "id": "0d3664e5-c5e8-47e6-855e-e8c371c72d95",
   "metadata": {},
   "source": [
    "In this optional section, you will consider [Life's Essential 8](https://www.heart.org/en/healthy-living/healthy-lifestyle/lifes-essential-8), a set of health factors and behaviors identified by the American Heart Association (AHA) as essential for promoting heart health and overall well-being, in regards to the social and economic conditions of individuals."
   ]
  },
  {
   "cell_type": "markdown",
   "id": "78ee363c-7ab8-4378-abec-78bbc910397d",
   "metadata": {},
   "source": [
    "**EC 1** (5 points): [Food deserts](https://foodispower.org/access-health/food-deserts/) can be described as geographic areas where residents’ access to affordable, healthy food options (especially fresh fruits and vegetables) is restricted or nonexistent due to the absence of grocery stores within convenient traveling distance. What populations in the US do you believe are at risk/currently living in food deserts? What do you expect the heart health of individuals in these populations to be like?  \n",
    "*Hint*: Think of the US's history in regards to racism, segregation, immigration, policing, city planning and indigenous peoples in the US."
   ]
  },
  {
   "cell_type": "markdown",
   "id": "7f81b95c-dc2d-4784-a87e-9e6a18f8237d",
   "metadata": {},
   "source": [
    "**Your Answer Here**"
   ]
  },
  {
   "cell_type": "markdown",
   "id": "90e2860c-ff27-4ba9-8f47-a83944695144",
   "metadata": {},
   "source": [
    "<br>"
   ]
  },
  {
   "cell_type": "markdown",
   "id": "e84a2e5e-6ff2-4fcb-b0b0-3528589b4af5",
   "metadata": {},
   "source": [
    "**EC 2** (5 points): Mental health undeniably plays a significant role in overall well-being, yet it is not explicitly covered in Life's Essential 8. In what ways do you believe mental health can affect CVD, either directly or indirectly?"
   ]
  },
  {
   "cell_type": "markdown",
   "id": "45214029-66ce-4478-984c-7b4ebb4421b2",
   "metadata": {},
   "source": [
    "**Your Answer Here**"
   ]
  },
  {
   "cell_type": "markdown",
   "id": "9317fc55-5c0d-45f8-8c2a-9e9295d12377",
   "metadata": {},
   "source": [
    "<br>"
   ]
  },
  {
   "cell_type": "markdown",
   "id": "a6739262-d73b-46f3-a418-3827d654b9ae",
   "metadata": {},
   "source": [
    "---"
   ]
  },
  {
   "cell_type": "markdown",
   "id": "40ea3b9f-7757-44cd-b16a-8a8d19f3f0ee",
   "metadata": {},
   "source": [
    "### Submission\n",
    "Congratulations! You have finished the final project. You should now have a better grasp of the following concepts:\n",
    "\n",
    "- Strategically read a research study by emphasizing extraction of important sections first (unlike reading narratives)\n",
    "- Identify study design and types of variables from a research paper\n",
    "- Conduct exploratory data analyis (EDA) on an unfamiliar dataset\n",
    "- Create univariate and bivariate data visualizations to interpret phenomenon\n",
    "- Create a binary classifier model using Python's sklearn library to predict heart attacks in patients\n",
    "- Idenitfy model performance by considering various common evaluation metrics of ML models"
   ]
  },
  {
   "cell_type": "markdown",
   "id": "2e5a74c3-eba6-4bf9-910b-e51ad28abd57",
   "metadata": {},
   "source": [
    "Please submit this assignment to bCourses before **November 28th, 2023**. "
   ]
  }
 ],
 "metadata": {
  "kernelspec": {
   "display_name": "Python 3 (ipykernel)",
   "language": "python",
   "name": "python3"
  },
  "language_info": {
   "codemirror_mode": {
    "name": "ipython",
    "version": 3
   },
   "file_extension": ".py",
   "mimetype": "text/x-python",
   "name": "python",
   "nbconvert_exporter": "python",
   "pygments_lexer": "ipython3",
   "version": "3.9.18"
  }
 },
 "nbformat": 4,
 "nbformat_minor": 5
}
